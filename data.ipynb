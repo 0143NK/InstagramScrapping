{
 "cells": [
  {
   "cell_type": "code",
   "execution_count": 8,
   "metadata": {},
   "outputs": [
    {
     "name": "stdout",
     "output_type": "stream",
     "text": [
      "Loaded Dataset:\n",
      "    likes  views  insights  comments\n",
      "0    120   4500        80        15\n",
      "1    200   6000       120        20\n",
      "2    310   7500       150        30\n",
      "3    180   5000       100        25\n",
      "4    250   6700       130        22\n",
      "5    140   4800        90        18\n",
      "6    330   7800       160        35\n",
      "7    190   5300       110        20\n",
      "8    220   6200       125        28\n",
      "9    270   7000       140        32\n",
      "Predicted values for day 11:\n",
      "Likes: 270\n",
      "Views: 6845\n",
      "Insights: 141\n",
      "Comments: 32\n"
     ]
    }
   ],
   "source": [
    "import math\n",
    "import numpy as np\n",
    "import pandas as pd\n",
    "import matplotlib.pyplot as plt\n",
    "from sklearn.model_selection import train_test_split\n",
    "from sklearn.linear_model import LinearRegression\n",
    "from sklearn.svm import SVR\n",
    "from sklearn.preprocessing import StandardScaler\n",
    "\n",
    "file_path = \"instagram_data.csv\"  \n",
    "\n",
    "df = pd.read_csv(file_path) \n",
    "print(\"Loaded Dataset:\\n\", df)\n",
    "\n",
    "X = df.index.values.reshape(-1, 1) \n",
    "y_likes = df['likes']\n",
    "y_views = df['views']\n",
    "y_insights = df['insights']\n",
    "y_comments = df['comments']\n",
    "\n",
    "lin_reg_likes = LinearRegression().fit(X, y_likes)\n",
    "lin_reg_views = LinearRegression().fit(X, y_views)\n",
    "lin_reg_insights = LinearRegression().fit(X, y_insights)\n",
    "lin_reg_comments = LinearRegression().fit(X, y_comments)\n",
    "\n",
    "new_day = np.array([[11]])\n",
    "likes_pred = lin_reg_likes.predict(new_day)[0]\n",
    "views_pred = lin_reg_views.predict(new_day)[0]\n",
    "insights_pred = lin_reg_insights.predict(new_day)[0]\n",
    "comments_pred = lin_reg_comments.predict(new_day)[0]\n",
    "\n",
    "print(\"Predicted values for day 11:\")\n",
    "print(\"Likes:\", math.ceil(likes_pred))\n",
    "print(\"Views:\", math.ceil(views_pred))\n",
    "print(\"Insights:\", math.ceil(insights_pred))\n",
    "print(\"Comments:\", math.ceil(comments_pred))"
   ]
  },
  {
   "cell_type": "code",
   "execution_count": 3,
   "metadata": {},
   "outputs": [
    {
     "name": "stdout",
     "output_type": "stream",
     "text": [
      "Defaulting to user installation because normal site-packages is not writeable\n",
      "Collecting numpy\n",
      "  Downloading numpy-2.2.3-cp312-cp312-win_amd64.whl.metadata (60 kB)\n",
      "Downloading numpy-2.2.3-cp312-cp312-win_amd64.whl (12.6 MB)\n",
      "   ---------------------------------------- 0.0/12.6 MB ? eta -:--:--\n",
      "   ---------------------------------------- 0.0/12.6 MB ? eta -:--:--\n",
      "    --------------------------------------- 0.3/12.6 MB ? eta -:--:--\n",
      "    --------------------------------------- 0.3/12.6 MB ? eta -:--:--\n",
      "   - -------------------------------------- 0.5/12.6 MB 540.5 kB/s eta 0:00:23\n",
      "   -- ------------------------------------- 0.8/12.6 MB 744.7 kB/s eta 0:00:16\n",
      "   --- ------------------------------------ 1.0/12.6 MB 853.0 kB/s eta 0:00:14\n",
      "   ---- ----------------------------------- 1.3/12.6 MB 919.0 kB/s eta 0:00:13\n",
      "   ---- ----------------------------------- 1.6/12.6 MB 921.7 kB/s eta 0:00:12\n",
      "   ----- ---------------------------------- 1.8/12.6 MB 976.9 kB/s eta 0:00:12\n",
      "   ------ --------------------------------- 2.1/12.6 MB 1.1 MB/s eta 0:00:10\n",
      "   ------- -------------------------------- 2.4/12.6 MB 1.1 MB/s eta 0:00:10\n",
      "   --------- ------------------------------ 2.9/12.6 MB 1.2 MB/s eta 0:00:09\n",
      "   ---------- ----------------------------- 3.4/12.6 MB 1.3 MB/s eta 0:00:08\n",
      "   ------------ --------------------------- 3.9/12.6 MB 1.4 MB/s eta 0:00:07\n",
      "   -------------- ------------------------- 4.5/12.6 MB 1.5 MB/s eta 0:00:06\n",
      "   -------------- ------------------------- 4.7/12.6 MB 1.5 MB/s eta 0:00:06\n",
      "   ----------------- ---------------------- 5.5/12.6 MB 1.6 MB/s eta 0:00:05\n",
      "   ------------------- -------------------- 6.0/12.6 MB 1.6 MB/s eta 0:00:05\n",
      "   -------------------- ------------------- 6.6/12.6 MB 1.7 MB/s eta 0:00:04\n",
      "   ---------------------- ----------------- 7.1/12.6 MB 1.7 MB/s eta 0:00:04\n",
      "   ----------------------- ---------------- 7.3/12.6 MB 1.7 MB/s eta 0:00:04\n",
      "   ------------------------ --------------- 7.9/12.6 MB 1.7 MB/s eta 0:00:03\n",
      "   -------------------------- ------------- 8.4/12.6 MB 1.8 MB/s eta 0:00:03\n",
      "   ---------------------------- ----------- 8.9/12.6 MB 1.8 MB/s eta 0:00:03\n",
      "   ----------------------------- ---------- 9.2/12.6 MB 1.8 MB/s eta 0:00:02\n",
      "   ----------------------------- ---------- 9.4/12.6 MB 1.7 MB/s eta 0:00:02\n",
      "   ------------------------------ --------- 9.7/12.6 MB 1.7 MB/s eta 0:00:02\n",
      "   ------------------------------- -------- 10.0/12.6 MB 1.7 MB/s eta 0:00:02\n",
      "   --------------------------------- ------ 10.5/12.6 MB 1.7 MB/s eta 0:00:02\n",
      "   ---------------------------------- ----- 10.7/12.6 MB 1.7 MB/s eta 0:00:02\n",
      "   ----------------------------------- ---- 11.3/12.6 MB 1.7 MB/s eta 0:00:01\n",
      "   ------------------------------------- -- 11.8/12.6 MB 1.8 MB/s eta 0:00:01\n",
      "   ---------------------------------------  12.3/12.6 MB 1.8 MB/s eta 0:00:01\n",
      "   ---------------------------------------- 12.6/12.6 MB 1.8 MB/s eta 0:00:00\n",
      "Installing collected packages: numpy\n",
      "Successfully installed numpy-2.2.3\n",
      "Note: you may need to restart the kernel to use updated packages.\n"
     ]
    },
    {
     "name": "stderr",
     "output_type": "stream",
     "text": [
      "\n",
      "[notice] A new release of pip is available: 24.2 -> 25.0.1\n",
      "[notice] To update, run: python.exe -m pip install --upgrade pip\n"
     ]
    }
   ],
   "source": [
    "%pip install numpy\n"
   ]
  },
  {
   "cell_type": "code",
   "execution_count": null,
   "metadata": {},
   "outputs": [],
   "source": []
  }
 ],
 "metadata": {
  "kernelspec": {
   "display_name": "Python 3",
   "language": "python",
   "name": "python3"
  },
  "language_info": {
   "codemirror_mode": {
    "name": "ipython",
    "version": 3
   },
   "file_extension": ".py",
   "mimetype": "text/x-python",
   "name": "python",
   "nbconvert_exporter": "python",
   "pygments_lexer": "ipython3",
   "version": "3.12.6"
  }
 },
 "nbformat": 4,
 "nbformat_minor": 2
}
